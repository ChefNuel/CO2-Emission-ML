{
 "cells": [
  {
   "cell_type": "code",
   "execution_count": 1,
   "id": "138f9834",
   "metadata": {},
   "outputs": [],
   "source": [
    "# Importing neccesary libraries to run models\n",
    "import pandas as pd\n",
    "import numpy as np\n",
    "import matplotlib.pyplot as plt\n",
    "%matplotlib inline\n",
    "import seaborn as sns\n",
    "import scipy\n",
    "from sklearn.metrics import classification_report\n",
    "from sklearn import metrics\n",
    "from sklearn import tree\n",
    "from IPython import get_ipython\n",
    "from sklearn.model_selection import train_test_split\n",
    "from sklearn.preprocessing import StandardScaler\n",
    "from sklearn.metrics import classification_report, confusion_matrix\n",
    "from sklearn.metrics import accuracy_score\n",
    "from scipy.stats import randint\n",
    "from sklearn.svm import SVR\n",
    "from sklearn.model_selection import train_test_split\n",
    "from sklearn.preprocessing import StandardScaler\n",
    "import warnings\n",
    "warnings.filterwarnings(\"ignore\")"
   ]
  },
  {
   "cell_type": "code",
   "execution_count": null,
   "id": "b73fa03f",
   "metadata": {},
   "outputs": [],
   "source": []
  },
  {
   "cell_type": "code",
   "execution_count": 2,
   "id": "72b4dc46",
   "metadata": {},
   "outputs": [],
   "source": [
    "# Uploading dataset to terminal\n",
    "data = pd.read_csv('updated_Co2dataset.csv')"
   ]
  },
  {
   "cell_type": "code",
   "execution_count": 3,
   "id": "dc1edec9",
   "metadata": {},
   "outputs": [
    {
     "data": {
      "text/html": [
       "<div>\n",
       "<style scoped>\n",
       "    .dataframe tbody tr th:only-of-type {\n",
       "        vertical-align: middle;\n",
       "    }\n",
       "\n",
       "    .dataframe tbody tr th {\n",
       "        vertical-align: top;\n",
       "    }\n",
       "\n",
       "    .dataframe thead th {\n",
       "        text-align: right;\n",
       "    }\n",
       "</style>\n",
       "<table border=\"1\" class=\"dataframe\">\n",
       "  <thead>\n",
       "    <tr style=\"text-align: right;\">\n",
       "      <th></th>\n",
       "      <th>label</th>\n",
       "      <th>co2(ppm)</th>\n",
       "      <th>methane(ppb)</th>\n",
       "      <th>nitrous_oxide(ppvb)</th>\n",
       "      <th>primary_energy_consumption (trillion BTUs)</th>\n",
       "      <th>population</th>\n",
       "      <th>Co2 level</th>\n",
       "    </tr>\n",
       "  </thead>\n",
       "  <tbody>\n",
       "    <tr>\n",
       "      <th>0</th>\n",
       "      <td>1</td>\n",
       "      <td>260.3</td>\n",
       "      <td>897</td>\n",
       "      <td>325</td>\n",
       "      <td>31.746</td>\n",
       "      <td>12412311</td>\n",
       "      <td>Normal</td>\n",
       "    </tr>\n",
       "    <tr>\n",
       "      <th>1</th>\n",
       "      <td>1</td>\n",
       "      <td>242.7</td>\n",
       "      <td>907</td>\n",
       "      <td>329</td>\n",
       "      <td>13.903</td>\n",
       "      <td>13299016</td>\n",
       "      <td>Normal</td>\n",
       "    </tr>\n",
       "    <tr>\n",
       "      <th>2</th>\n",
       "      <td>0</td>\n",
       "      <td>137.9</td>\n",
       "      <td>899</td>\n",
       "      <td>320</td>\n",
       "      <td>9.168</td>\n",
       "      <td>14485543</td>\n",
       "      <td>Not Normal</td>\n",
       "    </tr>\n",
       "    <tr>\n",
       "      <th>3</th>\n",
       "      <td>0</td>\n",
       "      <td>133.3</td>\n",
       "      <td>889</td>\n",
       "      <td>320</td>\n",
       "      <td>9.105</td>\n",
       "      <td>15816601</td>\n",
       "      <td>Not Normal</td>\n",
       "    </tr>\n",
       "    <tr>\n",
       "      <th>4</th>\n",
       "      <td>0</td>\n",
       "      <td>128.2</td>\n",
       "      <td>896</td>\n",
       "      <td>299</td>\n",
       "      <td>8.816</td>\n",
       "      <td>17075728</td>\n",
       "      <td>Not Normal</td>\n",
       "    </tr>\n",
       "  </tbody>\n",
       "</table>\n",
       "</div>"
      ],
      "text/plain": [
       "   label  co2(ppm)  methane(ppb)  nitrous_oxide(ppvb)  \\\n",
       "0      1     260.3           897                  325   \n",
       "1      1     242.7           907                  329   \n",
       "2      0     137.9           899                  320   \n",
       "3      0     133.3           889                  320   \n",
       "4      0     128.2           896                  299   \n",
       "\n",
       "   primary_energy_consumption (trillion BTUs)  population   Co2 level  \n",
       "0                                      31.746    12412311      Normal  \n",
       "1                                      13.903    13299016      Normal  \n",
       "2                                       9.168    14485543  Not Normal  \n",
       "3                                       9.105    15816601  Not Normal  \n",
       "4                                       8.816    17075728  Not Normal  "
      ]
     },
     "execution_count": 3,
     "metadata": {},
     "output_type": "execute_result"
    }
   ],
   "source": [
    "# Viewing first 5 dataset rows\n",
    "# Label 1 = Normal Co2 level \n",
    "# Lable 0 = Not normal Co2 Level\n",
    "data.head()"
   ]
  },
  {
   "cell_type": "code",
   "execution_count": 4,
   "id": "3a0cc165",
   "metadata": {},
   "outputs": [],
   "source": [
    "# Removing column \"Co2 level\" as it is not neccessary, it is being represented by the label\n",
    "# ML models works best with digits more than strings\n",
    "data = data.drop(['Co2 level', 'label'], axis=1)"
   ]
  },
  {
   "cell_type": "code",
   "execution_count": 5,
   "id": "977303ca",
   "metadata": {},
   "outputs": [
    {
     "data": {
      "text/html": [
       "<div>\n",
       "<style scoped>\n",
       "    .dataframe tbody tr th:only-of-type {\n",
       "        vertical-align: middle;\n",
       "    }\n",
       "\n",
       "    .dataframe tbody tr th {\n",
       "        vertical-align: top;\n",
       "    }\n",
       "\n",
       "    .dataframe thead th {\n",
       "        text-align: right;\n",
       "    }\n",
       "</style>\n",
       "<table border=\"1\" class=\"dataframe\">\n",
       "  <thead>\n",
       "    <tr style=\"text-align: right;\">\n",
       "      <th></th>\n",
       "      <th>co2(ppm)</th>\n",
       "      <th>methane(ppb)</th>\n",
       "      <th>nitrous_oxide(ppvb)</th>\n",
       "      <th>primary_energy_consumption (trillion BTUs)</th>\n",
       "      <th>population</th>\n",
       "    </tr>\n",
       "  </thead>\n",
       "  <tbody>\n",
       "    <tr>\n",
       "      <th>0</th>\n",
       "      <td>260.3</td>\n",
       "      <td>897</td>\n",
       "      <td>325</td>\n",
       "      <td>31.746</td>\n",
       "      <td>12412311</td>\n",
       "    </tr>\n",
       "    <tr>\n",
       "      <th>1</th>\n",
       "      <td>242.7</td>\n",
       "      <td>907</td>\n",
       "      <td>329</td>\n",
       "      <td>13.903</td>\n",
       "      <td>13299016</td>\n",
       "    </tr>\n",
       "    <tr>\n",
       "      <th>2</th>\n",
       "      <td>137.9</td>\n",
       "      <td>899</td>\n",
       "      <td>320</td>\n",
       "      <td>9.168</td>\n",
       "      <td>14485543</td>\n",
       "    </tr>\n",
       "    <tr>\n",
       "      <th>3</th>\n",
       "      <td>133.3</td>\n",
       "      <td>889</td>\n",
       "      <td>320</td>\n",
       "      <td>9.105</td>\n",
       "      <td>15816601</td>\n",
       "    </tr>\n",
       "    <tr>\n",
       "      <th>4</th>\n",
       "      <td>128.2</td>\n",
       "      <td>896</td>\n",
       "      <td>299</td>\n",
       "      <td>8.816</td>\n",
       "      <td>17075728</td>\n",
       "    </tr>\n",
       "  </tbody>\n",
       "</table>\n",
       "</div>"
      ],
      "text/plain": [
       "   co2(ppm)  methane(ppb)  nitrous_oxide(ppvb)  \\\n",
       "0     260.3           897                  325   \n",
       "1     242.7           907                  329   \n",
       "2     137.9           899                  320   \n",
       "3     133.3           889                  320   \n",
       "4     128.2           896                  299   \n",
       "\n",
       "   primary_energy_consumption (trillion BTUs)  population  \n",
       "0                                      31.746    12412311  \n",
       "1                                      13.903    13299016  \n",
       "2                                       9.168    14485543  \n",
       "3                                       9.105    15816601  \n",
       "4                                       8.816    17075728  "
      ]
     },
     "execution_count": 5,
     "metadata": {},
     "output_type": "execute_result"
    }
   ],
   "source": [
    "# Viewing updated dataset\n",
    "data.head()"
   ]
  },
  {
   "cell_type": "code",
   "execution_count": 6,
   "id": "f1fd9285",
   "metadata": {},
   "outputs": [
    {
     "data": {
      "text/html": [
       "<div>\n",
       "<style scoped>\n",
       "    .dataframe tbody tr th:only-of-type {\n",
       "        vertical-align: middle;\n",
       "    }\n",
       "\n",
       "    .dataframe tbody tr th {\n",
       "        vertical-align: top;\n",
       "    }\n",
       "\n",
       "    .dataframe thead th {\n",
       "        text-align: right;\n",
       "    }\n",
       "</style>\n",
       "<table border=\"1\" class=\"dataframe\">\n",
       "  <thead>\n",
       "    <tr style=\"text-align: right;\">\n",
       "      <th></th>\n",
       "      <th>co2(ppm)</th>\n",
       "      <th>methane(ppb)</th>\n",
       "      <th>nitrous_oxide(ppvb)</th>\n",
       "      <th>primary_energy_consumption (trillion BTUs)</th>\n",
       "      <th>population</th>\n",
       "    </tr>\n",
       "  </thead>\n",
       "  <tbody>\n",
       "    <tr>\n",
       "      <th>9996</th>\n",
       "      <td>263.5</td>\n",
       "      <td>2728</td>\n",
       "      <td>2490</td>\n",
       "      <td>5435.2</td>\n",
       "      <td>23531567</td>\n",
       "    </tr>\n",
       "    <tr>\n",
       "      <th>9997</th>\n",
       "      <td>310.7</td>\n",
       "      <td>2379</td>\n",
       "      <td>2062</td>\n",
       "      <td>6131.7</td>\n",
       "      <td>24187500</td>\n",
       "    </tr>\n",
       "    <tr>\n",
       "      <th>9998</th>\n",
       "      <td>298.1</td>\n",
       "      <td>2610</td>\n",
       "      <td>2243</td>\n",
       "      <td>6590.7</td>\n",
       "      <td>24862673</td>\n",
       "    </tr>\n",
       "    <tr>\n",
       "      <th>9999</th>\n",
       "      <td>294.5</td>\n",
       "      <td>333</td>\n",
       "      <td>205</td>\n",
       "      <td>2438.9</td>\n",
       "      <td>4510197</td>\n",
       "    </tr>\n",
       "    <tr>\n",
       "      <th>10000</th>\n",
       "      <td>320.8</td>\n",
       "      <td>345</td>\n",
       "      <td>214</td>\n",
       "      <td>3083.2</td>\n",
       "      <td>4622757</td>\n",
       "    </tr>\n",
       "  </tbody>\n",
       "</table>\n",
       "</div>"
      ],
      "text/plain": [
       "       co2(ppm)  methane(ppb)  nitrous_oxide(ppvb)  \\\n",
       "9996      263.5          2728                 2490   \n",
       "9997      310.7          2379                 2062   \n",
       "9998      298.1          2610                 2243   \n",
       "9999      294.5           333                  205   \n",
       "10000     320.8           345                  214   \n",
       "\n",
       "       primary_energy_consumption (trillion BTUs)  population  \n",
       "9996                                       5435.2    23531567  \n",
       "9997                                       6131.7    24187500  \n",
       "9998                                       6590.7    24862673  \n",
       "9999                                       2438.9     4510197  \n",
       "10000                                      3083.2     4622757  "
      ]
     },
     "execution_count": 6,
     "metadata": {},
     "output_type": "execute_result"
    }
   ],
   "source": [
    "# Viewing last 5 rows of the dataset\n",
    "# Dataset consistes of 10,000 data\n",
    "data.tail()"
   ]
  },
  {
   "cell_type": "code",
   "execution_count": 7,
   "id": "99542127",
   "metadata": {},
   "outputs": [
    {
     "data": {
      "text/plain": [
       "(10001, 5)"
      ]
     },
     "execution_count": 7,
     "metadata": {},
     "output_type": "execute_result"
    }
   ],
   "source": [
    "# Data has 10,001 rows (including row description cells) and 6 colunms\n",
    "data.shape"
   ]
  },
  {
   "cell_type": "code",
   "execution_count": 8,
   "id": "e6f57a45",
   "metadata": {},
   "outputs": [
    {
     "data": {
      "text/plain": [
       "Index(['co2(ppm)', 'methane(ppb)', 'nitrous_oxide(ppvb)',\n",
       "       'primary_energy_consumption (trillion BTUs)', 'population'],\n",
       "      dtype='object')"
      ]
     },
     "execution_count": 8,
     "metadata": {},
     "output_type": "execute_result"
    }
   ],
   "source": [
    "# Dataset colunms which containes the traget (label), and 5 diffrent features to be used to train the model\n",
    "data.columns"
   ]
  },
  {
   "cell_type": "code",
   "execution_count": 9,
   "id": "5c4a60ad",
   "metadata": {},
   "outputs": [
    {
     "data": {
      "text/plain": [
       "co2(ppm)                                      0\n",
       "methane(ppb)                                  0\n",
       "nitrous_oxide(ppvb)                           0\n",
       "primary_energy_consumption (trillion BTUs)    0\n",
       "population                                    0\n",
       "dtype: int64"
      ]
     },
     "execution_count": 9,
     "metadata": {},
     "output_type": "execute_result"
    }
   ],
   "source": [
    "# Checking for null values in the dataset\n",
    "data.isnull().sum()"
   ]
  },
  {
   "cell_type": "code",
   "execution_count": 10,
   "id": "22446f74",
   "metadata": {},
   "outputs": [
    {
     "name": "stdout",
     "output_type": "stream",
     "text": [
      "<class 'pandas.core.frame.DataFrame'>\n",
      "RangeIndex: 10001 entries, 0 to 10000\n",
      "Data columns (total 5 columns):\n",
      " #   Column                                      Non-Null Count  Dtype  \n",
      "---  ------                                      --------------  -----  \n",
      " 0   co2(ppm)                                    10001 non-null  float64\n",
      " 1   methane(ppb)                                10001 non-null  int64  \n",
      " 2   nitrous_oxide(ppvb)                         10001 non-null  int64  \n",
      " 3   primary_energy_consumption (trillion BTUs)  10001 non-null  float64\n",
      " 4   population                                  10001 non-null  int64  \n",
      "dtypes: float64(2), int64(3)\n",
      "memory usage: 390.8 KB\n"
     ]
    }
   ],
   "source": [
    "# Checking dataset information to ensure consistency\n",
    "data.info()"
   ]
  },
  {
   "cell_type": "code",
   "execution_count": 11,
   "id": "fb4466d6",
   "metadata": {},
   "outputs": [
    {
     "data": {
      "text/html": [
       "<div>\n",
       "<style scoped>\n",
       "    .dataframe tbody tr th:only-of-type {\n",
       "        vertical-align: middle;\n",
       "    }\n",
       "\n",
       "    .dataframe tbody tr th {\n",
       "        vertical-align: top;\n",
       "    }\n",
       "\n",
       "    .dataframe thead th {\n",
       "        text-align: right;\n",
       "    }\n",
       "</style>\n",
       "<table border=\"1\" class=\"dataframe\">\n",
       "  <thead>\n",
       "    <tr style=\"text-align: right;\">\n",
       "      <th></th>\n",
       "      <th>co2(ppm)</th>\n",
       "      <th>methane(ppb)</th>\n",
       "      <th>nitrous_oxide(ppvb)</th>\n",
       "      <th>primary_energy_consumption (trillion BTUs)</th>\n",
       "      <th>population</th>\n",
       "    </tr>\n",
       "  </thead>\n",
       "  <tbody>\n",
       "    <tr>\n",
       "      <th>count</th>\n",
       "      <td>1.000100e+04</td>\n",
       "      <td>10001.000000</td>\n",
       "      <td>10001.000000</td>\n",
       "      <td>1.000100e+04</td>\n",
       "      <td>1.000100e+04</td>\n",
       "    </tr>\n",
       "    <tr>\n",
       "      <th>mean</th>\n",
       "      <td>1.332352e+04</td>\n",
       "      <td>3820.612639</td>\n",
       "      <td>1592.733827</td>\n",
       "      <td>3.804720e+04</td>\n",
       "      <td>4.019929e+07</td>\n",
       "    </tr>\n",
       "    <tr>\n",
       "      <th>std</th>\n",
       "      <td>6.489879e+04</td>\n",
       "      <td>11511.755536</td>\n",
       "      <td>4786.036637</td>\n",
       "      <td>1.928026e+05</td>\n",
       "      <td>1.621540e+08</td>\n",
       "    </tr>\n",
       "    <tr>\n",
       "      <th>min</th>\n",
       "      <td>2.200000e+00</td>\n",
       "      <td>0.000000</td>\n",
       "      <td>0.000000</td>\n",
       "      <td>0.000000e+00</td>\n",
       "      <td>1.750500e+04</td>\n",
       "    </tr>\n",
       "    <tr>\n",
       "      <th>25%</th>\n",
       "      <td>1.357000e+02</td>\n",
       "      <td>207.000000</td>\n",
       "      <td>56.000000</td>\n",
       "      <td>1.189000e+02</td>\n",
       "      <td>1.643333e+06</td>\n",
       "    </tr>\n",
       "    <tr>\n",
       "      <th>50%</th>\n",
       "      <td>7.726000e+02</td>\n",
       "      <td>826.000000</td>\n",
       "      <td>349.000000</td>\n",
       "      <td>1.618265e+03</td>\n",
       "      <td>6.362039e+06</td>\n",
       "    </tr>\n",
       "    <tr>\n",
       "      <th>75%</th>\n",
       "      <td>5.507600e+03</td>\n",
       "      <td>2253.000000</td>\n",
       "      <td>1046.000000</td>\n",
       "      <td>8.899400e+03</td>\n",
       "      <td>1.933110e+07</td>\n",
       "    </tr>\n",
       "    <tr>\n",
       "      <th>max</th>\n",
       "      <td>1.028999e+06</td>\n",
       "      <td>124243.000000</td>\n",
       "      <td>54729.000000</td>\n",
       "      <td>3.821572e+06</td>\n",
       "      <td>1.427648e+09</td>\n",
       "    </tr>\n",
       "  </tbody>\n",
       "</table>\n",
       "</div>"
      ],
      "text/plain": [
       "           co2(ppm)   methane(ppb)  nitrous_oxide(ppvb)  \\\n",
       "count  1.000100e+04   10001.000000         10001.000000   \n",
       "mean   1.332352e+04    3820.612639          1592.733827   \n",
       "std    6.489879e+04   11511.755536          4786.036637   \n",
       "min    2.200000e+00       0.000000             0.000000   \n",
       "25%    1.357000e+02     207.000000            56.000000   \n",
       "50%    7.726000e+02     826.000000           349.000000   \n",
       "75%    5.507600e+03    2253.000000          1046.000000   \n",
       "max    1.028999e+06  124243.000000         54729.000000   \n",
       "\n",
       "       primary_energy_consumption (trillion BTUs)    population  \n",
       "count                                1.000100e+04  1.000100e+04  \n",
       "mean                                 3.804720e+04  4.019929e+07  \n",
       "std                                  1.928026e+05  1.621540e+08  \n",
       "min                                  0.000000e+00  1.750500e+04  \n",
       "25%                                  1.189000e+02  1.643333e+06  \n",
       "50%                                  1.618265e+03  6.362039e+06  \n",
       "75%                                  8.899400e+03  1.933110e+07  \n",
       "max                                  3.821572e+06  1.427648e+09  "
      ]
     },
     "execution_count": 11,
     "metadata": {},
     "output_type": "execute_result"
    }
   ],
   "source": [
    "# Further decribing the dataset\n",
    "# Showing the mean, standard deviation, min, 25 percentile, 50 percentile, 70 percentile and the maximum value\n",
    "data.describe()"
   ]
  },
  {
   "cell_type": "code",
   "execution_count": 12,
   "id": "3d250282",
   "metadata": {},
   "outputs": [],
   "source": [
    "# Assigning datset colunms into feature and target variables\n",
    "X = data.drop('co2(ppm)',axis=1)\n",
    "y = data['co2(ppm)']"
   ]
  },
  {
   "cell_type": "code",
   "execution_count": 13,
   "id": "ba743f18",
   "metadata": {},
   "outputs": [],
   "source": [
    "from sklearn.model_selection import train_test_split"
   ]
  },
  {
   "cell_type": "code",
   "execution_count": 14,
   "id": "8baf29bc",
   "metadata": {},
   "outputs": [],
   "source": [
    "# Assuming X contains features and y contains CO2 values\n",
    "X_train, X_test, y_train, y_test = train_test_split(X, y, test_size=0.2, random_state=42)\n",
    "\n",
    "# Standardize features (optional but can be beneficial for SVM)\n",
    "scaler = StandardScaler()\n",
    "X_train = scaler.fit_transform(X_train)\n",
    "X_test = scaler.transform(X_test)"
   ]
  },
  {
   "cell_type": "markdown",
   "id": "504f1c95",
   "metadata": {},
   "source": [
    "# SVM_REGRESSION MODEL"
   ]
  },
  {
   "cell_type": "code",
   "execution_count": 69,
   "id": "4e7c3712",
   "metadata": {},
   "outputs": [
    {
     "data": {
      "text/html": [
       "<style>#sk-container-id-7 {color: black;background-color: white;}#sk-container-id-7 pre{padding: 0;}#sk-container-id-7 div.sk-toggleable {background-color: white;}#sk-container-id-7 label.sk-toggleable__label {cursor: pointer;display: block;width: 100%;margin-bottom: 0;padding: 0.3em;box-sizing: border-box;text-align: center;}#sk-container-id-7 label.sk-toggleable__label-arrow:before {content: \"▸\";float: left;margin-right: 0.25em;color: #696969;}#sk-container-id-7 label.sk-toggleable__label-arrow:hover:before {color: black;}#sk-container-id-7 div.sk-estimator:hover label.sk-toggleable__label-arrow:before {color: black;}#sk-container-id-7 div.sk-toggleable__content {max-height: 0;max-width: 0;overflow: hidden;text-align: left;background-color: #f0f8ff;}#sk-container-id-7 div.sk-toggleable__content pre {margin: 0.2em;color: black;border-radius: 0.25em;background-color: #f0f8ff;}#sk-container-id-7 input.sk-toggleable__control:checked~div.sk-toggleable__content {max-height: 200px;max-width: 100%;overflow: auto;}#sk-container-id-7 input.sk-toggleable__control:checked~label.sk-toggleable__label-arrow:before {content: \"▾\";}#sk-container-id-7 div.sk-estimator input.sk-toggleable__control:checked~label.sk-toggleable__label {background-color: #d4ebff;}#sk-container-id-7 div.sk-label input.sk-toggleable__control:checked~label.sk-toggleable__label {background-color: #d4ebff;}#sk-container-id-7 input.sk-hidden--visually {border: 0;clip: rect(1px 1px 1px 1px);clip: rect(1px, 1px, 1px, 1px);height: 1px;margin: -1px;overflow: hidden;padding: 0;position: absolute;width: 1px;}#sk-container-id-7 div.sk-estimator {font-family: monospace;background-color: #f0f8ff;border: 1px dotted black;border-radius: 0.25em;box-sizing: border-box;margin-bottom: 0.5em;}#sk-container-id-7 div.sk-estimator:hover {background-color: #d4ebff;}#sk-container-id-7 div.sk-parallel-item::after {content: \"\";width: 100%;border-bottom: 1px solid gray;flex-grow: 1;}#sk-container-id-7 div.sk-label:hover label.sk-toggleable__label {background-color: #d4ebff;}#sk-container-id-7 div.sk-serial::before {content: \"\";position: absolute;border-left: 1px solid gray;box-sizing: border-box;top: 0;bottom: 0;left: 50%;z-index: 0;}#sk-container-id-7 div.sk-serial {display: flex;flex-direction: column;align-items: center;background-color: white;padding-right: 0.2em;padding-left: 0.2em;position: relative;}#sk-container-id-7 div.sk-item {position: relative;z-index: 1;}#sk-container-id-7 div.sk-parallel {display: flex;align-items: stretch;justify-content: center;background-color: white;position: relative;}#sk-container-id-7 div.sk-item::before, #sk-container-id-7 div.sk-parallel-item::before {content: \"\";position: absolute;border-left: 1px solid gray;box-sizing: border-box;top: 0;bottom: 0;left: 50%;z-index: -1;}#sk-container-id-7 div.sk-parallel-item {display: flex;flex-direction: column;z-index: 1;position: relative;background-color: white;}#sk-container-id-7 div.sk-parallel-item:first-child::after {align-self: flex-end;width: 50%;}#sk-container-id-7 div.sk-parallel-item:last-child::after {align-self: flex-start;width: 50%;}#sk-container-id-7 div.sk-parallel-item:only-child::after {width: 0;}#sk-container-id-7 div.sk-dashed-wrapped {border: 1px dashed gray;margin: 0 0.4em 0.5em 0.4em;box-sizing: border-box;padding-bottom: 0.4em;background-color: white;}#sk-container-id-7 div.sk-label label {font-family: monospace;font-weight: bold;display: inline-block;line-height: 1.2em;}#sk-container-id-7 div.sk-label-container {text-align: center;}#sk-container-id-7 div.sk-container {/* jupyter's `normalize.less` sets `[hidden] { display: none; }` but bootstrap.min.css set `[hidden] { display: none !important; }` so we also need the `!important` here to be able to override the default hidden behavior on the sphinx rendered scikit-learn.org. See: https://github.com/scikit-learn/scikit-learn/issues/21755 */display: inline-block !important;position: relative;}#sk-container-id-7 div.sk-text-repr-fallback {display: none;}</style><div id=\"sk-container-id-7\" class=\"sk-top-container\"><div class=\"sk-text-repr-fallback\"><pre>SVR(kernel=&#x27;linear&#x27;)</pre><b>In a Jupyter environment, please rerun this cell to show the HTML representation or trust the notebook. <br />On GitHub, the HTML representation is unable to render, please try loading this page with nbviewer.org.</b></div><div class=\"sk-container\" hidden><div class=\"sk-item\"><div class=\"sk-estimator sk-toggleable\"><input class=\"sk-toggleable__control sk-hidden--visually\" id=\"sk-estimator-id-7\" type=\"checkbox\" checked><label for=\"sk-estimator-id-7\" class=\"sk-toggleable__label sk-toggleable__label-arrow\">SVR</label><div class=\"sk-toggleable__content\"><pre>SVR(kernel=&#x27;linear&#x27;)</pre></div></div></div></div></div>"
      ],
      "text/plain": [
       "SVR(kernel='linear')"
      ]
     },
     "execution_count": 69,
     "metadata": {},
     "output_type": "execute_result"
    }
   ],
   "source": [
    "svr_model = SVR(kernel='linear')  # different kernels tried; sigmoid, linear, poly, rbf. With poly the most accurate\n",
    "svr_model.fit(X_train, y_train)"
   ]
  },
  {
   "cell_type": "code",
   "execution_count": 70,
   "id": "bc358cc2",
   "metadata": {},
   "outputs": [],
   "source": [
    "y_pred = svr_model.predict(X_test)"
   ]
  },
  {
   "cell_type": "code",
   "execution_count": 71,
   "id": "7dacc203",
   "metadata": {
    "scrolled": true
   },
   "outputs": [
    {
     "name": "stdout",
     "output_type": "stream",
     "text": [
      "MAE: 12669.814772975205\n",
      "MSE: 4599292792.603259\n",
      "R2 Score: 0.13763593664950036\n"
     ]
    }
   ],
   "source": [
    "from sklearn.metrics import mean_absolute_error, mean_squared_error, r2_score\n",
    "\n",
    "mae = mean_absolute_error(y_test, y_pred)\n",
    "mse = mean_squared_error(y_test, y_pred)\n",
    "r2 = r2_score(y_test, y_pred)\n",
    "\n",
    "print(f'MAE: {mae}')\n",
    "print(f'MSE: {mse}')\n",
    "print(f'R2 Score: {r2}')"
   ]
  },
  {
   "cell_type": "markdown",
   "id": "123be9f9",
   "metadata": {},
   "source": [
    "# Testing the model with features as input"
   ]
  },
  {
   "cell_type": "code",
   "execution_count": 72,
   "id": "c6410fc5",
   "metadata": {},
   "outputs": [
    {
     "name": "stdout",
     "output_type": "stream",
     "text": [
      "Predicted CO2 Value: 1717.5502248867142\n"
     ]
    }
   ],
   "source": [
    "specific_inputs = [[4878,716,43.26,31161378]]  # Provide specific values for your features\n",
    "specific_inputs = scaler.transform(specific_inputs)  # Scale the inputs if you standardized the data\n",
    "\n",
    "co2_prediction = svr_model.predict(specific_inputs)\n",
    "print(f'Predicted CO2 Value: {co2_prediction[0]}')"
   ]
  },
  {
   "cell_type": "markdown",
   "id": "35eda4e3",
   "metadata": {},
   "source": [
    "# Scatter Plot showing the relationship between the actual CO2 Emissions Vs. Predicted CO2 Emissions"
   ]
  },
  {
   "cell_type": "code",
   "execution_count": 73,
   "id": "a63e5755",
   "metadata": {
    "scrolled": false
   },
   "outputs": [
    {
     "data": {
      "image/png": "[encoded data removed]",
      "text/plain": [
       "<Figure size 500x500 with 1 Axes>"
      ]
     },
     "metadata": {},
     "output_type": "display_data"
    }
   ],
   "source": [
    "import matplotlib.pyplot as plt\n",
    "import numpy as np\n",
    "\n",
    "# Assuming y_test contains actual CO2 emissions and y_pred contains predicted CO2 emissions\n",
    "# Replace with your actual variable names if different\n",
    "plt.figure(figsize=(5, 5))\n",
    "\n",
    "# Scatter plot\n",
    "plt.scatter(y_test, y_pred, color='blue', alpha=0.5)\n",
    "plt.title('Actual CO2 Emissions vs. Predicted CO2 Emissions')\n",
    "plt.xlabel('Actual CO2 Emissions')\n",
    "plt.ylabel('Predicted CO2 Emissions')\n",
    "\n",
    "# Add a trendline\n",
    "z = np.polyfit(y_test, y_pred, 1)\n",
    "p = np.poly1d(z)\n",
    "plt.plot(y_test,p(y_test), color='red')\n",
    "\n",
    "plt.show()"
   ]
  },
  {
   "cell_type": "code",
   "execution_count": null,
   "id": "d205a7d1",
   "metadata": {},
   "outputs": [],
   "source": []
  },
  {
   "cell_type": "code",
   "execution_count": null,
   "id": "3864025a",
   "metadata": {},
   "outputs": [],
   "source": []
  },
  {
   "cell_type": "code",
   "execution_count": null,
   "id": "7a881908",
   "metadata": {},
   "outputs": [],
   "source": []
  },
  {
   "cell_type": "code",
   "execution_count": null,
   "id": "28d241c8",
   "metadata": {},
   "outputs": [],
   "source": []
  },
  {
   "cell_type": "code",
   "execution_count": null,
   "id": "db73c7b5",
   "metadata": {},
   "outputs": [],
   "source": []
  },
  {
   "cell_type": "code",
   "execution_count": null,
   "id": "a4a70d11",
   "metadata": {},
   "outputs": [],
   "source": []
  },
  {
   "cell_type": "code",
   "execution_count": null,
   "id": "c4280119",
   "metadata": {},
   "outputs": [],
   "source": []
  },
  {
   "cell_type": "code",
   "execution_count": null,
   "id": "c1f66a96",
   "metadata": {},
   "outputs": [],
   "source": []
  },
  {
   "cell_type": "code",
   "execution_count": null,
   "id": "a6848849",
   "metadata": {},
   "outputs": [],
   "source": []
  },
  {
   "cell_type": "code",
   "execution_count": null,
   "id": "80f08953",
   "metadata": {},
   "outputs": [],
   "source": []
  },
  {
   "cell_type": "code",
   "execution_count": 74,
   "id": "09e83ddc",
   "metadata": {},
   "outputs": [],
   "source": [
    "new_data = pd.read_csv('Test_data.csv')"
   ]
  },
  {
   "cell_type": "code",
   "execution_count": 75,
   "id": "1ddc77b4",
   "metadata": {},
   "outputs": [],
   "source": [
    "specific_inputsnew = scaler.transform(new_data)"
   ]
  },
  {
   "cell_type": "code",
   "execution_count": 76,
   "id": "bd56ee7b",
   "metadata": {},
   "outputs": [],
   "source": [
    "predictions = svr_model.predict(specific_inputsnew)"
   ]
  },
  {
   "cell_type": "code",
   "execution_count": null,
   "id": "6ed9499f",
   "metadata": {},
   "outputs": [],
   "source": []
  },
  {
   "cell_type": "code",
   "execution_count": 77,
   "id": "9f2d3de9",
   "metadata": {},
   "outputs": [
    {
     "name": "stdout",
     "output_type": "stream",
     "text": [
      "[ 742.08425015  753.08708301  759.43993956 ... 1862.25071503  554.91522877\n",
      "  566.73343992]\n"
     ]
    }
   ],
   "source": [
    "print(predictions)"
   ]
  },
  {
   "cell_type": "code",
   "execution_count": 78,
   "id": "1348e618",
   "metadata": {},
   "outputs": [],
   "source": [
    "import pandas as pd\n",
    "\n",
    "# Assuming 'predictions' is a list or array containing your predictions\n",
    "# Create a DataFrame with the predictions\n",
    "predictions_df = pd.DataFrame(predictions, columns=['Predicted_CO2'])\n",
    "\n",
    "# Assuming 'new_data' is your original dataset (or a DataFrame with the same structure)\n",
    "# Concatenate the original data with the predictions\n",
    "result_df = pd.concat([new_data, predictions_df], axis=1)\n",
    "\n",
    "# Save the result to a CSV file\n",
    "result_df.to_csv('predicted_CO2_values.csv', index=False)"
   ]
  },
  {
   "cell_type": "code",
   "execution_count": null,
   "id": "d646393c",
   "metadata": {},
   "outputs": [],
   "source": []
  }
 ],
 "metadata": {
  "kernelspec": {
   "display_name": "Python 3 (ipykernel)",
   "language": "python",
   "name": "python3"
  },
  "language_info": {
   "codemirror_mode": {
    "name": "ipython",
    "version": 3
   },
   "file_extension": ".py",
   "mimetype": "text/x-python",
   "name": "python",
   "nbconvert_exporter": "python",
   "pygments_lexer": "ipython3",
   "version": "3.10.9"
  }
 },
 "nbformat": 4,
 "nbformat_minor": 5
}
